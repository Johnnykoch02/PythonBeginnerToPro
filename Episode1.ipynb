{
 "cells": [
  {
   "cell_type": "code",
   "execution_count": 7,
   "metadata": {},
   "outputs": [
    {
     "data": {
      "text/plain": [
       "'I am A Snake!Im actually a person.'"
      ]
     },
     "execution_count": 7,
     "metadata": {},
     "output_type": "execute_result"
    }
   ],
   "source": [
    "changing = \"I am A Snake!\" # Variable\n",
    "NOT_CHANGING = \"Im actually a person.\" # Constant\n",
    "\n",
    "changing = changing + NOT_CHANGING\n",
    "changing"
   ]
  },
  {
   "cell_type": "code",
   "execution_count": 10,
   "metadata": {},
   "outputs": [
    {
     "name": "stdout",
     "output_type": "stream",
     "text": [
      "John Doe\n",
      "My actual name is John Koch\n"
     ]
    }
   ],
   "source": [
    "First_Name = \"John\"\n",
    "Last_Name = \"Doe\"\n",
    "\n",
    "# print(First_Name+Last_Name)\n",
    "\n",
    "print(First_Name+\" \"+Last_Name)\n",
    "\n",
    "First_Name = input(\"First Name:\")\n",
    "Last_Name = input(\"Last Name:\")\n",
    "\n",
    "print(\"My actual name is \"+First_Name+\" \"+Last_Name)"
   ]
  },
  {
   "cell_type": "code",
   "execution_count": 23,
   "metadata": {},
   "outputs": [
    {
     "data": {
      "text/plain": [
       "False"
      ]
     },
     "execution_count": 23,
     "metadata": {},
     "output_type": "execute_result"
    }
   ],
   "source": [
    "## Types of Variables?\n",
    "\"\"\"\n",
    "Strings: Sequence of Characters, these Sequences have some specific properties\n",
    "integers: Any whole number\n",
    "float: any decimal number\n",
    "boolean: anything that can be formed as a question, true or false.\n",
    "\"\"\"\n",
    "type(len(changing))\n",
    "\n",
    "age = 21.687102 # Years Old\n",
    "age/5\n",
    "\n",
    "AGE_TO_DRINK = 21.0\n",
    "\n",
    "age < AGE_TO_DRINK"
   ]
  },
  {
   "cell_type": "code",
   "execution_count": 27,
   "metadata": {},
   "outputs": [
    {
     "name": "stdout",
     "output_type": "stream",
     "text": [
      "You dont have enough shmeckles :(\n",
      "Total Schmeckles in Wallet: 25\n"
     ]
    }
   ],
   "source": [
    "money_in_wallet = 25 # Schmeckles\n",
    "\n",
    "COST_OF_A_BURRITO = 50 # Schmeckles\n",
    "\n",
    "## Inheretence hits!\n",
    "# money_in_wallet = money_in_wallet + 35 # Schmeckles ## A small change in the program\n",
    "\n",
    "has_enough_in_wallet = money_in_wallet >= COST_OF_A_BURRITO\n",
    "\n",
    "if has_enough_in_wallet:\n",
    "    print('I can Buy a Burrito!')\n",
    "    money_in_wallet-=COST_OF_A_BURRITO\n",
    "else:\n",
    "    print('You dont have enough shmeckles :(')\n",
    "    \n",
    "print('Total Schmeckles in Wallet:', money_in_wallet)\n"
   ]
  }
 ],
 "metadata": {
  "kernelspec": {
   "display_name": "pytorch",
   "language": "python",
   "name": "python3"
  },
  "language_info": {
   "codemirror_mode": {
    "name": "ipython",
    "version": 3
   },
   "file_extension": ".py",
   "mimetype": "text/x-python",
   "name": "python",
   "nbconvert_exporter": "python",
   "pygments_lexer": "ipython3",
   "version": "3.9.13"
  },
  "orig_nbformat": 4
 },
 "nbformat": 4,
 "nbformat_minor": 2
}
